{
 "cells": [
  {
   "cell_type": "code",
   "execution_count": 1,
   "metadata": {},
   "outputs": [],
   "source": [
    "from magic_store.kv_idea.store import Store\n",
    "import pprint\n",
    "print_store = pprint.PrettyPrinter(indent=2).pprint\n",
    "#print_events = pprint.pprint"
   ]
  },
  {
   "cell_type": "code",
   "execution_count": 2,
   "metadata": {},
   "outputs": [
    {
     "ename": "AttributeError",
     "evalue": "'Store' object has no attribute 'createUser'",
     "output_type": "error",
     "traceback": [
      "\u001b[0;31m---------------------------------------------------------------------------\u001b[0m",
      "\u001b[0;31mAttributeError\u001b[0m                            Traceback (most recent call last)",
      "Cell \u001b[0;32mIn[2], line 8\u001b[0m\n\u001b[1;32m      6\u001b[0m store\u001b[39m.\u001b[39mput(\u001b[39m'\u001b[39m\u001b[39mkey_two\u001b[39m\u001b[39m'\u001b[39m,\u001b[39m'\u001b[39m\u001b[39mvalue_two\u001b[39m\u001b[39m'\u001b[39m)\n\u001b[1;32m      7\u001b[0m key_one \u001b[39m=\u001b[39m store\u001b[39m.\u001b[39mget(\u001b[39m'\u001b[39m\u001b[39mkey_one\u001b[39m\u001b[39m'\u001b[39m)\n\u001b[0;32m----> 8\u001b[0m store\u001b[39m.\u001b[39;49mcreateUser(\u001b[39m'\u001b[39m\u001b[39muser\u001b[39m\u001b[39m'\u001b[39m,\u001b[39m'\u001b[39m\u001b[39muser\u001b[39m\u001b[39m'\u001b[39m,\u001b[39m'\u001b[39m\u001b[39muser\u001b[39m\u001b[39m'\u001b[39m)\n\u001b[1;32m      9\u001b[0m store\u001b[39m.\u001b[39mlogin(\u001b[39m'\u001b[39m\u001b[39muser\u001b[39m\u001b[39m'\u001b[39m,\u001b[39m'\u001b[39m\u001b[39muser\u001b[39m\u001b[39m'\u001b[39m)\n",
      "\u001b[0;31mAttributeError\u001b[0m: 'Store' object has no attribute 'createUser'"
     ]
    }
   ],
   "source": [
    "store = Store()\n",
    "store.put(\"key_one\",'value_one')\n",
    "store.put('key_two','value_two')\n",
    "store.createNamespace(\"data_one\")\n",
    "store.put(\"key_one\",'value_one')\n",
    "store.put('key_two','value_two')\n",
    "key_one = store.get('key_one')\n",
    "store.createUser('user','user','user')\n",
    "store.login('user','user')"
   ]
  },
  {
   "cell_type": "code",
   "execution_count": 3,
   "metadata": {},
   "outputs": [
    {
     "name": "stdout",
     "output_type": "stream",
     "text": [
      "{ '__default__': { 'key1': { 'guard': 'bb59e8e60e9b494fab2f4ce6ae5dcc2a',\n",
      "                             'value': 'test texta'},\n",
      "                   'key2': { 'guard': '9d95589aed774a959c5d828a8ca75ac5',\n",
      "                             'value': 'test texta'}}}\n"
     ]
    }
   ],
   "source": [
    "store.currentUser"
   ]
  },
  {
   "cell_type": "code",
   "execution_count": 4,
   "metadata": {},
   "outputs": [
    {
     "name": "stdout",
     "output_type": "stream",
     "text": [
      "{'2022-12-22T21:39:51.043513': 'init',\n",
      " '2022-12-22T21:39:51.043549': 'putOK',\n",
      " '2022-12-22T21:39:51.043568': 'putOK',\n",
      " '2022-12-22T21:39:51.043582': 'putIncorrect guard'}\n"
     ]
    }
   ],
   "source": [
    "store.login('admin','admin')"
   ]
  },
  {
   "cell_type": "code",
   "execution_count": 4,
   "metadata": {},
   "outputs": [
    {
     "data": {
      "text/plain": [
       "{'2022-12-22T18:55:18.711606': 'init'}"
      ]
     },
     "execution_count": 4,
     "metadata": {},
     "output_type": "execute_result"
    }
   ],
   "source": [
    "store.createUser('user','user_one','user_one_password')\n",
    "store.login('user_one','user_one_password')"
   ]
  }
 ],
 "metadata": {
  "kernelspec": {
   "display_name": "Python 3",
   "language": "python",
   "name": "python3"
  },
  "language_info": {
   "codemirror_mode": {
    "name": "ipython",
    "version": 3
   },
   "file_extension": ".py",
   "mimetype": "text/x-python",
   "name": "python",
   "nbconvert_exporter": "python",
   "pygments_lexer": "ipython3",
   "version": "3.10.8"
  },
  "orig_nbformat": 4,
  "vscode": {
   "interpreter": {
    "hash": "b0fa6594d8f4cbf19f97940f81e996739fb7646882a419484c72d19e05852a7e"
   }
  }
 },
 "nbformat": 4,
 "nbformat_minor": 2
}
