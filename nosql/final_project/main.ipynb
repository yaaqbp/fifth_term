{
 "cells": [
  {
   "cell_type": "code",
   "execution_count": 1,
   "metadata": {},
   "outputs": [],
   "source": [
    "from magic_store.kv_idea.store import Store\n",
    "import pprint\n",
    "print_store = pprint.PrettyPrinter(indent=2).pprint\n",
    "print_events = pprint.pprint"
   ]
  },
  {
   "cell_type": "code",
   "execution_count": 2,
   "metadata": {},
   "outputs": [
    {
     "data": {
      "text/plain": [
       "{'code': 205, 'description': 'Incorrect guard'}"
      ]
     },
     "execution_count": 2,
     "metadata": {},
     "output_type": "execute_result"
    }
   ],
   "source": [
    "store = Store()\n",
    "store.put(\"key1\", \"test texta\")\n",
    "store.put(\"key2\", \"test texta\")\n",
    "store.put(\"key1\", \"test texta\")"
   ]
  },
  {
   "cell_type": "code",
   "execution_count": 3,
   "metadata": {},
   "outputs": [
    {
     "name": "stdout",
     "output_type": "stream",
     "text": [
      "{ '__default__': { 'key1': { 'guard': 'bb59e8e60e9b494fab2f4ce6ae5dcc2a',\n",
      "                             'value': 'test texta'},\n",
      "                   'key2': { 'guard': '9d95589aed774a959c5d828a8ca75ac5',\n",
      "                             'value': 'test texta'}}}\n"
     ]
    }
   ],
   "source": [
    "print_store(store._store)"
   ]
  },
  {
   "cell_type": "code",
   "execution_count": 4,
   "metadata": {},
   "outputs": [
    {
     "name": "stdout",
     "output_type": "stream",
     "text": [
      "{'2022-12-22T21:39:51.043513': 'init',\n",
      " '2022-12-22T21:39:51.043549': 'putOK',\n",
      " '2022-12-22T21:39:51.043568': 'putOK',\n",
      " '2022-12-22T21:39:51.043582': 'putIncorrect guard'}\n"
     ]
    }
   ],
   "source": [
    "print_events(store._events)"
   ]
  },
  {
   "cell_type": "code",
   "execution_count": 4,
   "metadata": {},
   "outputs": [
    {
     "data": {
      "text/plain": [
       "{'2022-12-22T18:55:18.711606': 'init'}"
      ]
     },
     "execution_count": 4,
     "metadata": {},
     "output_type": "execute_result"
    }
   ],
   "source": [
    "store._events"
   ]
  },
  {
   "cell_type": "code",
   "execution_count": 5,
   "metadata": {},
   "outputs": [
    {
     "data": {
      "text/plain": [
       "{'code': 100, 'description': 'OK'}"
      ]
     },
     "execution_count": 5,
     "metadata": {},
     "output_type": "execute_result"
    }
   ],
   "source": [
    "store.createNamespace('dada')"
   ]
  },
  {
   "cell_type": "markdown",
   "metadata": {},
   "source": []
  },
  {
   "cell_type": "code",
   "execution_count": 5,
   "metadata": {},
   "outputs": [
    {
     "data": {
      "text/plain": [
       "{'2022-12-22T18:51:25.570463': 'init',\n",
       " '2022-12-22T18:51:26.172271': 'createNamespace'}"
      ]
     },
     "execution_count": 5,
     "metadata": {},
     "output_type": "execute_result"
    }
   ],
   "source": [
    "store.events"
   ]
  },
  {
   "cell_type": "code",
   "execution_count": 7,
   "metadata": {},
   "outputs": [
    {
     "data": {
      "text/plain": [
       "{'code': 203, 'description': 'Incorrect key'}"
      ]
     },
     "execution_count": 7,
     "metadata": {},
     "output_type": "execute_result"
    }
   ],
   "source": [
    "store.get('dada')"
   ]
  },
  {
   "cell_type": "code",
   "execution_count": null,
   "metadata": {},
   "outputs": [],
   "source": [
    "store."
   ]
  },
  {
   "cell_type": "code",
   "execution_count": 20,
   "metadata": {},
   "outputs": [
    {
     "name": "stdout",
     "output_type": "stream",
     "text": [
      "{ '__default__': { 'key1': { 'guard': '3d91a40099764cb9a77e954d1edb80bb',\n",
      "                             'value': 'test texta'}}}\n"
     ]
    }
   ],
   "source": [
    "\n",
    "\n",
    "result = store.put(\"key1\", \"test text inny\", namespace=\"osiolek\")"
   ]
  },
  {
   "cell_type": "code",
   "execution_count": 18,
   "metadata": {},
   "outputs": [
    {
     "name": "stdout",
     "output_type": "stream",
     "text": [
      "{ '__default__': { 'key1': { 'guard': 'ae276f40c2484d10935bf00865d942eb',\n",
      "                             'value': 'test texta'}},\n",
      "  'osiolek': { 'key1': { 'guard': '55134edcb2f149d6acc35465798bed10',\n",
      "                         'value': 'test text inny'}}}\n"
     ]
    }
   ],
   "source": [
    "pp.pprint(store._store)"
   ]
  },
  {
   "cell_type": "code",
   "execution_count": 11,
   "metadata": {},
   "outputs": [
    {
     "name": "stdout",
     "output_type": "stream",
     "text": [
      "{'code': 100, 'description': 'OK'}\n",
      "{ '__default__': { 'key1': { 'guard': 'eb8747bd2ae34b72afdd0c9d1348727c',\n",
      "                             'value': 'xxxxxxxxxxxxxxxxxxx'}},\n",
      "  'osiolek': { 'key1': { 'guard': '46f61900dcd542778221b195b8323a27',\n",
      "                         'value': 'reaktywacja'}}}\n"
     ]
    }
   ],
   "source": [
    "def test():\n",
    "    store = Store()\n",
    "\n",
    "    result = store.put(\"key1\", \"test texta\")\n",
    "    print(result)\n",
    "\n",
    "    pp = pprint.PrettyPrinter(indent=2)\n",
    "    pp.pprint(store._store)\n",
    "\n",
    "    result = store.put(\"key1\", \"test text inny\", namespace=\"osiolek\")\n",
    "    print(result)\n",
    "\n",
    "    pp = pprint.PrettyPrinter(indent=2)\n",
    "    pp.pprint(store._store)\n",
    "\n",
    "    result = store.put(\"key1\", \"nierowazna czynnosc\")\n",
    "    print(result)\n",
    "\n",
    "    pp = pprint.PrettyPrinter(indent=2)\n",
    "    pp.pprint(store._store)\n",
    "    print(\"===========================\")\n",
    "    x = store.get(\"key1\")\n",
    "    print(x)\n",
    "    result = store.put(\"key1\", \"xxxxxxxxxxxxxxxxxxx\", guard=x[\"guard\"])\n",
    "    print(result)\n",
    "    pp = pprint.PrettyPrinter(indent=2)\n",
    "    pp.pprint(store._store)\n",
    "\n",
    "    x = store.get(\"key1\", namespace=\"osiolek\")\n",
    "    result = store.delete(\"key1\", namespace=\"osiolek\", guard=x[\"guard\"])\n",
    "    print(result)\n",
    "    pp.pprint(store._store)\n",
    "\n",
    "    result = store.put(\"key1\", \"reaktywacja\", namespace=\"osiolek\")\n",
    "    print(result)\n",
    "    result = store.save()\n",
    "    print(result)\n",
    "\n",
    "def testLoad():\n",
    "    store = Store()\n",
    "    result = store.load()\n",
    "    print(result)\n",
    "    pp = pprint.PrettyPrinter(indent=2)\n",
    "    pp.pprint(store._store)\n",
    "\n",
    "\n",
    "if __name__ == '__main__':\n",
    "    #test()\n",
    "    testLoad()\n",
    "\n",
    "\n"
   ]
  },
  {
   "cell_type": "code",
   "execution_count": null,
   "metadata": {},
   "outputs": [],
   "source": []
  }
 ],
 "metadata": {
  "kernelspec": {
   "display_name": "Python 3",
   "language": "python",
   "name": "python3"
  },
  "language_info": {
   "codemirror_mode": {
    "name": "ipython",
    "version": 3
   },
   "file_extension": ".py",
   "mimetype": "text/x-python",
   "name": "python",
   "nbconvert_exporter": "python",
   "pygments_lexer": "ipython3",
   "version": "3.10.8"
  },
  "orig_nbformat": 4,
  "vscode": {
   "interpreter": {
    "hash": "b0fa6594d8f4cbf19f97940f81e996739fb7646882a419484c72d19e05852a7e"
   }
  }
 },
 "nbformat": 4,
 "nbformat_minor": 2
}
