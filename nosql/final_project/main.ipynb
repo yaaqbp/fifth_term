{
 "cells": [
  {
   "attachments": {},
   "cell_type": "markdown",
   "metadata": {},
   "source": [
    "tagi \n",
    "<br>\n",
    "https://stackoverflow.com/questions/33727349/how-to-handle-tags-in-a-nosql-database"
   ]
  },
  {
   "cell_type": "code",
   "execution_count": 2,
   "metadata": {},
   "outputs": [],
   "source": [
    "from magic_store.kv_idea.store import Store\n",
    "import pprint\n",
    "import json\n",
    "import xmltodict\n",
    "print_store = pprint.PrettyPrinter(indent=2).pprint\n",
    "#print_events = pprint.pprint"
   ]
  },
  {
   "cell_type": "code",
   "execution_count": 3,
   "metadata": {},
   "outputs": [],
   "source": [
    "with open(\"Karoo-kwadraty.gpx\") as xml_file:\n",
    "    sample_gpx = json.dumps(xmltodict.parse(xml_file.read()))"
   ]
  },
  {
   "cell_type": "code",
   "execution_count": 4,
   "metadata": {},
   "outputs": [
    {
     "data": {
      "text/plain": [
       "{'code': 100, 'description': 'OK'}"
      ]
     },
     "execution_count": 4,
     "metadata": {},
     "output_type": "execute_result"
    }
   ],
   "source": [
    "store = Store()\n",
    "store.createNamespace('track-1')\n",
    "store.put(key='sample_gpx', value=sample_gpx, tags = ['gpx'])\n",
    "store.put(key='sample_gpx_1', value=sample_gpx, tags = ['gpx','gpx1'])"
   ]
  },
  {
   "cell_type": "markdown",
   "metadata": {},
   "source": [
    "store.put(\"key_one\",'value_one')\n",
    "store.put('key_two','value_two')\n",
    "store.createNamespace(\"data_one\")\n",
    "store.put(\"key_one\",'value_one')\n",
    "store.put('key_two','value_two')\n",
    "key_one = store.get('key_one')\n",
    "store.createUser('user','user','user')\n",
    "store.login('user','user')"
   ]
  },
  {
   "cell_type": "markdown",
   "metadata": {},
   "source": [
    "store.put('gpx', sample_gpx, namespace='track-1')"
   ]
  },
  {
   "cell_type": "code",
   "execution_count": 5,
   "metadata": {},
   "outputs": [
    {
     "data": {
      "text/plain": [
       "'admin'"
      ]
     },
     "execution_count": 5,
     "metadata": {},
     "output_type": "execute_result"
    }
   ],
   "source": [
    "store.currentUser"
   ]
  },
  {
   "cell_type": "code",
   "execution_count": 6,
   "metadata": {},
   "outputs": [
    {
     "data": {
      "text/plain": [
       "{'code': 202, 'description': 'Incorrect_(nonexisting)_namespace'}"
      ]
     },
     "execution_count": 6,
     "metadata": {},
     "output_type": "execute_result"
    }
   ],
   "source": [
    "store.searchByTag(\"gpx\", 'track2222')"
   ]
  },
  {
   "cell_type": "code",
   "execution_count": 7,
   "metadata": {},
   "outputs": [
    {
     "data": {
      "text/plain": [
       "{'2022-12-23T21:47:15.754633': 'init',\n",
       " '2022-12-23T21:47:15.754658': 'createNamespace-OK',\n",
       " '2022-12-23T21:47:15.754698': 'put-OK',\n",
       " '2022-12-23T21:47:15.754725': 'put-OK',\n",
       " '2022-12-23T21:47:17.336861': 'searchByTag-Incorrect_(nonexisting)_namespace'}"
      ]
     },
     "execution_count": 7,
     "metadata": {},
     "output_type": "execute_result"
    }
   ],
   "source": [
    "store._events"
   ]
  },
  {
   "cell_type": "code",
   "execution_count": 8,
   "metadata": {},
   "outputs": [
    {
     "data": {
      "text/plain": [
       "{'code': 100, 'description': 'OK'}"
      ]
     },
     "execution_count": 8,
     "metadata": {},
     "output_type": "execute_result"
    }
   ],
   "source": [
    "store.login('admin','admin')\n",
    "store.saveEvents()"
   ]
  },
  {
   "cell_type": "code",
   "execution_count": 9,
   "metadata": {},
   "outputs": [
    {
     "data": {
      "text/plain": [
       "{'2022-12-23T21:47:15.754633': 'init',\n",
       " '2022-12-23T21:47:15.754658': 'createNamespace-OK',\n",
       " '2022-12-23T21:47:15.754698': 'put-OK',\n",
       " '2022-12-23T21:47:15.754725': 'put-OK',\n",
       " '2022-12-23T21:47:17.336861': 'searchByTag-Incorrect_(nonexisting)_namespace',\n",
       " '2022-12-23T21:47:18.888646': 'login-OK',\n",
       " '2022-12-23T21:47:18.888669': 'saveEvents-OK'}"
      ]
     },
     "execution_count": 9,
     "metadata": {},
     "output_type": "execute_result"
    }
   ],
   "source": [
    "store._events"
   ]
  },
  {
   "cell_type": "code",
   "execution_count": 10,
   "metadata": {},
   "outputs": [
    {
     "data": {
      "text/plain": [
       "{'code': 100, 'description': 'OK'}"
      ]
     },
     "execution_count": 10,
     "metadata": {},
     "output_type": "execute_result"
    }
   ],
   "source": [
    "store.save()"
   ]
  },
  {
   "cell_type": "code",
   "execution_count": null,
   "metadata": {},
   "outputs": [],
   "source": []
  }
 ],
 "metadata": {
  "kernelspec": {
   "display_name": "Python 3",
   "language": "python",
   "name": "python3"
  },
  "language_info": {
   "codemirror_mode": {
    "name": "ipython",
    "version": 3
   },
   "file_extension": ".py",
   "mimetype": "text/x-python",
   "name": "python",
   "nbconvert_exporter": "python",
   "pygments_lexer": "ipython3",
   "version": "3.10.8"
  },
  "orig_nbformat": 4,
  "vscode": {
   "interpreter": {
    "hash": "b0fa6594d8f4cbf19f97940f81e996739fb7646882a419484c72d19e05852a7e"
   }
  }
 },
 "nbformat": 4,
 "nbformat_minor": 2
}
