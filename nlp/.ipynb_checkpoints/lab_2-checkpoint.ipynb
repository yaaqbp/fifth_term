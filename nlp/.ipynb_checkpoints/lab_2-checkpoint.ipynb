{
 "cells": [
  {
   "cell_type": "code",
   "execution_count": 36,
   "id": "9b82c6ce-52eb-4e64-b22a-4a05c78ae62e",
   "metadata": {},
   "outputs": [],
   "source": [
    "import pandas as pd"
   ]
  },
  {
   "cell_type": "code",
   "execution_count": 44,
   "id": "d15edd93-c211-46d2-a64d-93b40e551a87",
   "metadata": {},
   "outputs": [],
   "source": [
    "S = 'START'\n",
    "REJ = 'REJECT'\n",
    "ACC = 'ACCEPT'\n",
    "#route_headers = ['current_state', 'action/event','new_state']\n",
    "routes = [\n",
    "    ['START', 1, 1],\n",
    "    ['START',-1, 'REJECT'],\n",
    "    [1, 'A', 'A'],\n",
    "    [1,-1, 'REJECT'],\n",
    "    ['A', 3, 3],\n",
    "    ['A',-1, 'REJECT'],\n",
    "    [3,'b','ACCEPT'],\n",
    "    [3,-1, 'REJECT']]\n",
    "routes = pd.DataFrame(routes, columns = ['current_state','action','new_state'])"
   ]
  },
  {
   "cell_type": "code",
   "execution_count": 45,
   "id": "9aaf105d-d642-4fa8-9010-a6db353b6787",
   "metadata": {},
   "outputs": [
    {
     "data": {
      "text/html": [
       "<div>\n",
       "<style scoped>\n",
       "    .dataframe tbody tr th:only-of-type {\n",
       "        vertical-align: middle;\n",
       "    }\n",
       "\n",
       "    .dataframe tbody tr th {\n",
       "        vertical-align: top;\n",
       "    }\n",
       "\n",
       "    .dataframe thead th {\n",
       "        text-align: right;\n",
       "    }\n",
       "</style>\n",
       "<table border=\"1\" class=\"dataframe\">\n",
       "  <thead>\n",
       "    <tr style=\"text-align: right;\">\n",
       "      <th></th>\n",
       "      <th>current_state</th>\n",
       "      <th>action</th>\n",
       "      <th>new_state</th>\n",
       "    </tr>\n",
       "  </thead>\n",
       "  <tbody>\n",
       "    <tr>\n",
       "      <th>0</th>\n",
       "      <td>START</td>\n",
       "      <td>1</td>\n",
       "      <td>1</td>\n",
       "    </tr>\n",
       "    <tr>\n",
       "      <th>1</th>\n",
       "      <td>START</td>\n",
       "      <td>-1</td>\n",
       "      <td>REJECT</td>\n",
       "    </tr>\n",
       "    <tr>\n",
       "      <th>2</th>\n",
       "      <td>1</td>\n",
       "      <td>A</td>\n",
       "      <td>A</td>\n",
       "    </tr>\n",
       "    <tr>\n",
       "      <th>3</th>\n",
       "      <td>1</td>\n",
       "      <td>-1</td>\n",
       "      <td>REJECT</td>\n",
       "    </tr>\n",
       "    <tr>\n",
       "      <th>4</th>\n",
       "      <td>A</td>\n",
       "      <td>3</td>\n",
       "      <td>3</td>\n",
       "    </tr>\n",
       "    <tr>\n",
       "      <th>5</th>\n",
       "      <td>A</td>\n",
       "      <td>-1</td>\n",
       "      <td>REJECT</td>\n",
       "    </tr>\n",
       "    <tr>\n",
       "      <th>6</th>\n",
       "      <td>3</td>\n",
       "      <td>b</td>\n",
       "      <td>ACCEPT</td>\n",
       "    </tr>\n",
       "    <tr>\n",
       "      <th>7</th>\n",
       "      <td>3</td>\n",
       "      <td>-1</td>\n",
       "      <td>REJECT</td>\n",
       "    </tr>\n",
       "  </tbody>\n",
       "</table>\n",
       "</div>"
      ],
      "text/plain": [
       "  current_state action new_state\n",
       "0         START      1         1\n",
       "1         START     -1    REJECT\n",
       "2             1      A         A\n",
       "3             1     -1    REJECT\n",
       "4             A      3         3\n",
       "5             A     -1    REJECT\n",
       "6             3      b    ACCEPT\n",
       "7             3     -1    REJECT"
      ]
     },
     "execution_count": 45,
     "metadata": {},
     "output_type": "execute_result"
    }
   ],
   "source": [
    "routes"
   ]
  },
  {
   "cell_type": "code",
   "execution_count": 34,
   "id": "85e9a0eb-5497-4b13-a233-3836363113c9",
   "metadata": {},
   "outputs": [
    {
     "name": "stdout",
     "output_type": "stream",
     "text": [
      "rejected or no route\n"
     ]
    }
   ],
   "source": [
    "input_string = '1A3b'\n",
    "current_state = 'START'\n",
    "action = ''\n",
    "i = 0\n",
    "while current_state != 'ACCEPT':\n",
    "    c = input_string[i]\n",
    "    if action == -1:\n",
    "        current_state = 'REJECT'\n",
    "        break\n",
    "    no_route = True\n",
    "    for route in routes:\n",
    "        if (current_state == route[0]) and (action == route[1]):\n",
    "            current_state = route[2]\n",
    "            no_route = False\n",
    "    if (current_state == 'REJECT') or (no_route == True):\n",
    "        print('rejected or no route')\n",
    "        break\n",
    "    i+=1"
   ]
  },
  {
   "cell_type": "code",
   "execution_count": 140,
   "id": "f6acb298-88d9-4af9-96f6-2247b6eba83e",
   "metadata": {},
   "outputs": [],
   "source": [
    "\n",
    "input_string = '1A3baa'\n",
    "\n",
    "def check(input_string):\n",
    "    i = 0\n",
    "    for idx, row in enumerate(routes.iterrows()):\n",
    "        route = row[1]\n",
    "        current_state, action, new_state = route\n",
    "        if action == input_string[i]:\n",
    "            if new_state == 'ACCEPT':\n",
    "                return 'accepted'\n",
    "        if idx%2 == 1:\n",
    "            i+=1"
   ]
  },
  {
   "cell_type": "code",
   "execution_count": 141,
   "id": "f239470d-0abb-465e-9f52-77a719178147",
   "metadata": {},
   "outputs": [
    {
     "data": {
      "text/plain": [
       "'accepted'"
      ]
     },
     "execution_count": 141,
     "metadata": {},
     "output_type": "execute_result"
    }
   ],
   "source": [
    "check(input_string)"
   ]
  },
  {
   "cell_type": "code",
   "execution_count": 142,
   "id": "daa8bf6d-69b2-436b-b485-8a754ea60951",
   "metadata": {},
   "outputs": [],
   "source": [
    "i = iter(input_string)"
   ]
  },
  {
   "cell_type": "code",
   "execution_count": 113,
   "id": "e190eab3-7c16-4d3f-8797-ca2ec34c5536",
   "metadata": {},
   "outputs": [
    {
     "data": {
      "text/plain": [
       "'A'"
      ]
     },
     "execution_count": 113,
     "metadata": {},
     "output_type": "execute_result"
    }
   ],
   "source": [
    "next(i)"
   ]
  },
  {
   "cell_type": "code",
   "execution_count": null,
   "id": "c73c4f81-3f47-4128-a463-0d31b2183031",
   "metadata": {},
   "outputs": [],
   "source": []
  },
  {
   "cell_type": "code",
   "execution_count": null,
   "id": "7276e20d-4b54-4343-a8ff-fd25d7c65612",
   "metadata": {},
   "outputs": [],
   "source": []
  }
 ],
 "metadata": {
  "kernelspec": {
   "display_name": "Python 3 (ipykernel)",
   "language": "python",
   "name": "python3"
  },
  "language_info": {
   "codemirror_mode": {
    "name": "ipython",
    "version": 3
   },
   "file_extension": ".py",
   "mimetype": "text/x-python",
   "name": "python",
   "nbconvert_exporter": "python",
   "pygments_lexer": "ipython3",
   "version": "3.9.12"
  }
 },
 "nbformat": 4,
 "nbformat_minor": 5
}
