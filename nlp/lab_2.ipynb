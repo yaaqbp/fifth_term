{
 "cells": [
  {
   "cell_type": "code",
   "execution_count": 146,
   "id": "9b82c6ce-52eb-4e64-b22a-4a05c78ae62e",
   "metadata": {},
   "outputs": [],
   "source": [
    "import pandas as pd"
   ]
  },
  {
   "cell_type": "code",
   "execution_count": 147,
   "id": "d15edd93-c211-46d2-a64d-93b40e551a87",
   "metadata": {},
   "outputs": [],
   "source": [
    "#route_headers = ['current_state', 'action/event','new_state']\n",
    "routes = [\n",
    "    ['START', 1, 1],\n",
    "    ['START',-1, 'REJECT'],\n",
    "    [1, 'A', 'A'],\n",
    "    [1,-1, 'REJECT'],\n",
    "    ['A', 3, 3],\n",
    "    ['A',-1, 'REJECT'],\n",
    "    [3,'b','ACCEPT'],\n",
    "    [3,-1, 'REJECT']]\n",
    "routes = pd.DataFrame(routes, columns = ['current_state','action','new_state'])"
   ]
  },
  {
   "cell_type": "code",
   "execution_count": 148,
   "id": "9aaf105d-d642-4fa8-9010-a6db353b6787",
   "metadata": {},
   "outputs": [
    {
     "data": {
      "text/html": [
       "<div>\n",
       "<style scoped>\n",
       "    .dataframe tbody tr th:only-of-type {\n",
       "        vertical-align: middle;\n",
       "    }\n",
       "\n",
       "    .dataframe tbody tr th {\n",
       "        vertical-align: top;\n",
       "    }\n",
       "\n",
       "    .dataframe thead th {\n",
       "        text-align: right;\n",
       "    }\n",
       "</style>\n",
       "<table border=\"1\" class=\"dataframe\">\n",
       "  <thead>\n",
       "    <tr style=\"text-align: right;\">\n",
       "      <th></th>\n",
       "      <th>current_state</th>\n",
       "      <th>action</th>\n",
       "      <th>new_state</th>\n",
       "    </tr>\n",
       "  </thead>\n",
       "  <tbody>\n",
       "    <tr>\n",
       "      <th>0</th>\n",
       "      <td>START</td>\n",
       "      <td>1</td>\n",
       "      <td>1</td>\n",
       "    </tr>\n",
       "    <tr>\n",
       "      <th>1</th>\n",
       "      <td>START</td>\n",
       "      <td>-1</td>\n",
       "      <td>REJECT</td>\n",
       "    </tr>\n",
       "    <tr>\n",
       "      <th>2</th>\n",
       "      <td>1</td>\n",
       "      <td>A</td>\n",
       "      <td>A</td>\n",
       "    </tr>\n",
       "    <tr>\n",
       "      <th>3</th>\n",
       "      <td>1</td>\n",
       "      <td>-1</td>\n",
       "      <td>REJECT</td>\n",
       "    </tr>\n",
       "    <tr>\n",
       "      <th>4</th>\n",
       "      <td>A</td>\n",
       "      <td>3</td>\n",
       "      <td>3</td>\n",
       "    </tr>\n",
       "    <tr>\n",
       "      <th>5</th>\n",
       "      <td>A</td>\n",
       "      <td>-1</td>\n",
       "      <td>REJECT</td>\n",
       "    </tr>\n",
       "    <tr>\n",
       "      <th>6</th>\n",
       "      <td>3</td>\n",
       "      <td>b</td>\n",
       "      <td>ACCEPT</td>\n",
       "    </tr>\n",
       "    <tr>\n",
       "      <th>7</th>\n",
       "      <td>3</td>\n",
       "      <td>-1</td>\n",
       "      <td>REJECT</td>\n",
       "    </tr>\n",
       "  </tbody>\n",
       "</table>\n",
       "</div>"
      ],
      "text/plain": [
       "  current_state action new_state\n",
       "0         START      1         1\n",
       "1         START     -1    REJECT\n",
       "2             1      A         A\n",
       "3             1     -1    REJECT\n",
       "4             A      3         3\n",
       "5             A     -1    REJECT\n",
       "6             3      b    ACCEPT\n",
       "7             3     -1    REJECT"
      ]
     },
     "execution_count": 148,
     "metadata": {},
     "output_type": "execute_result"
    }
   ],
   "source": [
    "routes"
   ]
  },
  {
   "cell_type": "code",
   "execution_count": 149,
   "id": "f6acb298-88d9-4af9-96f6-2247b6eba83e",
   "metadata": {},
   "outputs": [],
   "source": [
    "\n",
    "input_string = '1A3baa'\n",
    "\n",
    "def check(input_string):\n",
    "    i = 0\n",
    "    for idx, row in enumerate(routes.iterrows()):\n",
    "        route = row[1]\n",
    "        current_state, action, new_state = route\n",
    "        if action == input_string[i]:\n",
    "            if new_state == 'ACCEPT':\n",
    "                return True\n",
    "        if idx%2 == 1:\n",
    "            i+=1"
   ]
  },
  {
   "cell_type": "code",
   "execution_count": 144,
   "id": "f239470d-0abb-465e-9f52-77a719178147",
   "metadata": {},
   "outputs": [
    {
     "data": {
      "text/plain": [
       "True"
      ]
     },
     "execution_count": 144,
     "metadata": {},
     "output_type": "execute_result"
    }
   ],
   "source": [
    "check(input_string)"
   ]
  }
 ],
 "metadata": {
  "kernelspec": {
   "display_name": "Python 3 (ipykernel)",
   "language": "python",
   "name": "python3"
  },
  "language_info": {
   "codemirror_mode": {
    "name": "ipython",
    "version": 3
   },
   "file_extension": ".py",
   "mimetype": "text/x-python",
   "name": "python",
   "nbconvert_exporter": "python",
   "pygments_lexer": "ipython3",
   "version": "3.9.12"
  }
 },
 "nbformat": 4,
 "nbformat_minor": 5
}
